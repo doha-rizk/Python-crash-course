{
 "cells": [
  {
   "cell_type": "markdown",
   "metadata": {},
   "source": [
    "# Python Tutorial using Jupyter Notebook"
   ]
  },
  {
   "cell_type": "markdown",
   "metadata": {},
   "source": [
    "Python is a user friendly programming language that works on different platforms (Windiows, Linux, MacOs,...) and allow programmers to write programs in fewer lines than other programming languages. It doesn't need to be compiled, since it runs on an interpreter system where it can be executed line by line. It has an expansive set of libraries, especially for image processing."
   ]
  },
  {
   "cell_type": "markdown",
   "metadata": {},
   "source": [
    "## What is Jupyter notebook?"
   ]
  },
  {
   "cell_type": "markdown",
   "metadata": {},
   "source": [
    "Jupyter notebooks, are documents that contain both code and rich text elements such as figures, links, equations...Because of that they are an ideal place to bring together analysis description and results together. <br>\n",
    "\"Jupyter\" is an acronym for the three programming languages <strong>Julia</strong> (programming language created specifically for data science, complex linear algebra, data mining, and machine learning), <strong>Python</strong> and <strong>R</strong>. However nowadays it supports many <a href = \"https://github.com/jupyter/jupyter/wiki/Jupyter-kernels\" target=\"_blank\">other languages</a>."
   ]
  },
  {
   "cell_type": "markdown",
   "metadata": {},
   "source": [
    "Jupyter notebook is a server-client application that allows you to run your notebook on a web browser, where it can be executed without internet access (localhost server), or through internet. It consists of a group of cells, where you place your code in a code cell, then you can execute it using the <strong>Run</strong> button or by pressing <strong>(ctrl+Enter)</strong> buttons."
   ]
  },
  {
   "cell_type": "markdown",
   "metadata": {},
   "source": [
    "1) print() function is used to print anything on the screen, integer, float, string, or even you can use it to print a line."
   ]
  },
  {
   "cell_type": "code",
   "execution_count": 1,
   "metadata": {},
   "outputs": [
    {
     "name": "stdout",
     "output_type": "stream",
     "text": [
      "Hello world!\n"
     ]
    }
   ],
   "source": [
    "print(\"Hello world!\")"
   ]
  },
  {
   "cell_type": "markdown",
   "metadata": {},
   "source": [
    "2) String concatenation can be done by using a + sign between the two strings you whish to concatenate."
   ]
  },
  {
   "cell_type": "code",
   "execution_count": 4,
   "metadata": {},
   "outputs": [
    {
     "name": "stdout",
     "output_type": "stream",
     "text": [
      "Helloworld\n"
     ]
    }
   ],
   "source": [
    "print(\"Hello\"+\"world\")"
   ]
  },
  {
   "cell_type": "markdown",
   "metadata": {},
   "source": [
    "## Python variables"
   ]
  },
  {
   "cell_type": "markdown",
   "metadata": {},
   "source": [
    "Unlike other programming languages, python don't have a declaring command, the variable is created by assigning a value to it. They also don't need to be declared with any type."
   ]
  },
  {
   "cell_type": "code",
   "execution_count": 6,
   "metadata": {},
   "outputs": [
    {
     "name": "stdout",
     "output_type": "stream",
     "text": [
      "5\n",
      "6.3\n",
      "Hello\n",
      "True\n"
     ]
    }
   ],
   "source": [
    "a = 5 #integer\n",
    "b = 6.3 #float\n",
    "c = \"Hello\" #string\n",
    "d = True #boolean\n",
    "print(a)\n",
    "print(b)\n",
    "print(c)\n",
    "print(d)"
   ]
  },
  {
   "cell_type": "markdown",
   "metadata": {},
   "source": [
    "You can change the type of a variable by assigning different values to it."
   ]
  },
  {
   "cell_type": "code",
   "execution_count": 14,
   "metadata": {},
   "outputs": [
    {
     "name": "stdout",
     "output_type": "stream",
     "text": [
      "x is of type <class 'str'>\n",
      "x is of type <class 'float'>\n"
     ]
    }
   ],
   "source": [
    "x = \"Hello\" #x is of type string\n",
    "print(\"x is of type\", type(x))\n",
    "x = 4.5 #x now is of type float\n",
    "print(\"x is of type\", type(x))"
   ]
  },
  {
   "cell_type": "markdown",
   "metadata": {},
   "source": [
    "## Output variables"
   ]
  },
  {
   "cell_type": "markdown",
   "metadata": {},
   "source": [
    "To combine a text with a variable together, use casting to change the variable type to string first, otherwise you will get an error."
   ]
  },
  {
   "cell_type": "code",
   "execution_count": 18,
   "metadata": {},
   "outputs": [
    {
     "name": "stdout",
     "output_type": "stream",
     "text": [
      "My age is 20\n"
     ]
    }
   ],
   "source": [
    "x = 20\n",
    "print(\"My age is \"+str(x))"
   ]
  },
  {
   "cell_type": "markdown",
   "metadata": {},
   "source": [
    "## Specify the variable type"
   ]
  },
  {
   "cell_type": "markdown",
   "metadata": {},
   "source": [
    "You can specify the variable type by casting."
   ]
  },
  {
   "cell_type": "code",
   "execution_count": 19,
   "metadata": {},
   "outputs": [
    {
     "name": "stdout",
     "output_type": "stream",
     "text": [
      "4\n",
      "3.0\n",
      "1\n"
     ]
    }
   ],
   "source": [
    "x = int(4.5)\n",
    "print(x)\n",
    "x = float(3)\n",
    "print(x)\n",
    "x = str(1)\n",
    "print(x)"
   ]
  },
  {
   "cell_type": "markdown",
   "metadata": {},
   "source": [
    "## Python Strings"
   ]
  },
  {
   "cell_type": "markdown",
   "metadata": {},
   "source": [
    "In pthon strings are considered as arrays of bytes, where each letter can be accessed by a squared brackets specifying the position of a letter in the string in it. A charachter datatype doesn't exist, where a single character is simply a string of length one character."
   ]
  },
  {
   "cell_type": "code",
   "execution_count": 2,
   "metadata": {},
   "outputs": [
    {
     "name": "stdout",
     "output_type": "stream",
     "text": [
      "l\n",
      " \n",
      "h\n",
      "llo t\n",
      "Hello t\n"
     ]
    }
   ],
   "source": [
    "a= \"Hello there\"\n",
    "print(a[2])\n",
    "print(a[5])#prints the space\n",
    "print(a[7])\n",
    "print(a[2:7])#prints a substring\n",
    "print(a[:7])#prints a substring"
   ]
  },
  {
   "cell_type": "markdown",
   "metadata": {},
   "source": [
    "Here are some built-in methods for strings:"
   ]
  },
  {
   "cell_type": "code",
   "execution_count": 6,
   "metadata": {},
   "outputs": [
    {
     "name": "stdout",
     "output_type": "stream",
     "text": [
      "12\n",
      "['Hello', ' world']\n",
      "Jello, world\n"
     ]
    }
   ],
   "source": [
    "a = \"Hello, world\"\n",
    "print(len(a))#length of a string\n",
    "print(a.split(\",\"))#splits the string into two values\n",
    "print(a.replace(\"H\",\"J\"))"
   ]
  },
  {
   "cell_type": "markdown",
   "metadata": {},
   "source": [
    "## Arithmetic operations:"
   ]
  },
  {
   "cell_type": "code",
   "execution_count": 37,
   "metadata": {},
   "outputs": [
    {
     "name": "stdout",
     "output_type": "stream",
     "text": [
      "7\n",
      "10\n",
      "2.5\n",
      "1\n"
     ]
    }
   ],
   "source": [
    "x = 5\n",
    "y = 2\n",
    "print(x+y)\n",
    "print(x*y)\n",
    "print(x/y)\n",
    "print(x%y)"
   ]
  },
  {
   "cell_type": "markdown",
   "metadata": {},
   "source": [
    "## Take an input from the user:"
   ]
  },
  {
   "cell_type": "markdown",
   "metadata": {},
   "source": [
    "Example 1: Get the sum of two numbers"
   ]
  },
  {
   "cell_type": "code",
   "execution_count": 42,
   "metadata": {},
   "outputs": [
    {
     "name": "stdout",
     "output_type": "stream",
     "text": [
      "Enter x 1\n",
      "Enter y 2\n",
      "The sum is 3\n"
     ]
    }
   ],
   "source": [
    "x = input(\"Enter x \")\n",
    "y = input(\"Enter y \")\n",
    "print(\"The sum is\",int(x)+int(y))"
   ]
  },
  {
   "cell_type": "markdown",
   "metadata": {},
   "source": [
    "Example 2: Swap the value of two integer numbers"
   ]
  },
  {
   "cell_type": "code",
   "execution_count": 92,
   "metadata": {},
   "outputs": [
    {
     "name": "stdout",
     "output_type": "stream",
     "text": [
      "Enter the first number2\n",
      "Enter the second number4\n",
      "Before swapping:.....\n",
      "a= 2 b= 4\n",
      "After swapping:.....\n",
      "a= 4 b= 2\n"
     ]
    }
   ],
   "source": [
    "a = int(input(\"Enter the first number\"))\n",
    "b = int(input(\"Enter the second number\"))\n",
    "print(\"Before swapping:.....\")\n",
    "print(\"a=\",a,\"b=\",b)\n",
    "a,b = b,a\n",
    "print(\"After swapping:.....\")\n",
    "print(\"a=\",a,\"b=\",b)"
   ]
  },
  {
   "cell_type": "markdown",
   "metadata": {},
   "source": [
    "## Control Flow statements:"
   ]
  },
  {
   "cell_type": "markdown",
   "metadata": {},
   "source": [
    "Example 1: Take an input from the user then determine if the value is even or odd."
   ]
  },
  {
   "cell_type": "code",
   "execution_count": 44,
   "metadata": {},
   "outputs": [
    {
     "name": "stdout",
     "output_type": "stream",
     "text": [
      "Enter the number 3\n",
      "3 is odd\n"
     ]
    }
   ],
   "source": [
    "x = int(input(\"Enter the number \"))\n",
    "if x%2==0:\n",
    "    print(x,\"is even\")\n",
    "else:\n",
    "    print(x,\"is odd\")"
   ]
  },
  {
   "cell_type": "markdown",
   "metadata": {},
   "source": [
    "Example 2: Write a program that finds the largest among three numbers."
   ]
  },
  {
   "cell_type": "code",
   "execution_count": 46,
   "metadata": {},
   "outputs": [
    {
     "name": "stdout",
     "output_type": "stream",
     "text": [
      "Enter the first number 14\n",
      "Enter the first number 20\n",
      "Enter the first number 11\n",
      "The maximum number is 20\n"
     ]
    }
   ],
   "source": [
    "num1 = int(input(\"Enter the first number \"))\n",
    "num2 = int(input(\"Enter the first number \"))\n",
    "num3 = int(input(\"Enter the first number \"))\n",
    "if num1>num2 and num1>num3:\n",
    "    print(\"The maximum number is\",num1)\n",
    "elif num2>num3:\n",
    "    print(\"The maximum number is\",num2)\n",
    "else:\n",
    "    print(\"The maximum number is\",num3)"
   ]
  },
  {
   "cell_type": "markdown",
   "metadata": {},
   "source": [
    "## Loops:"
   ]
  },
  {
   "cell_type": "markdown",
   "metadata": {},
   "source": [
    "Example 1: Write a program to print all odd numbers from n to 1."
   ]
  },
  {
   "cell_type": "code",
   "execution_count": 50,
   "metadata": {},
   "outputs": [
    {
     "name": "stdout",
     "output_type": "stream",
     "text": [
      "Enter n 9\n",
      "1\n",
      "3\n",
      "5\n",
      "7\n",
      "9\n"
     ]
    }
   ],
   "source": [
    "n = int(input(\"Enter n \"))\n",
    "for i in range(n+1):#counts from 0 to n\n",
    "    if i%2==1:\n",
    "        print(i)"
   ]
  },
  {
   "cell_type": "markdown",
   "metadata": {},
   "source": [
    "Example 2: write a program to print the following pattern:"
   ]
  },
  {
   "cell_type": "code",
   "execution_count": 52,
   "metadata": {},
   "outputs": [
    {
     "name": "stdout",
     "output_type": "stream",
     "text": [
      "1 2 3 4 5 \n",
      "1 2 3 4 \n",
      "1 2 3 \n",
      "1 2 \n",
      "1 \n"
     ]
    }
   ],
   "source": [
    "num_lines = 5\n",
    "for i in range(num_lines):\n",
    "    for j in range(1,num_lines+1-i):\n",
    "        print(j,end=\" \")\n",
    "    print()#print a line"
   ]
  },
  {
   "cell_type": "markdown",
   "metadata": {},
   "source": [
    "Example 3: Write a program to print the following series in a reverse order:1024, 512, 256, 128, 64, 32, 16, 8, 4, 2, 1"
   ]
  },
  {
   "cell_type": "code",
   "execution_count": 8,
   "metadata": {},
   "outputs": [
    {
     "name": "stdout",
     "output_type": "stream",
     "text": [
      "1024,512,256,128,64,32,16,8,4,2,1 "
     ]
    }
   ],
   "source": [
    "for i in range(10,-1,-1):#this loop means that i=10 as an initial value, with a step -1 each time till i=0\n",
    "    if i!=0:\n",
    "        print(2**i,end=\",\")\n",
    "    else:\n",
    "        print(2**i,end=\" \")"
   ]
  },
  {
   "cell_type": "markdown",
   "metadata": {},
   "source": [
    "## Python Collections (Arrays)"
   ]
  },
  {
   "cell_type": "markdown",
   "metadata": {},
   "source": [
    "### 1) List"
   ]
  },
  {
   "cell_type": "markdown",
   "metadata": {},
   "source": [
    "List declaration:"
   ]
  },
  {
   "cell_type": "code",
   "execution_count": 98,
   "metadata": {},
   "outputs": [],
   "source": [
    "myList=[]#empty list"
   ]
  },
  {
   "cell_type": "code",
   "execution_count": 10,
   "metadata": {},
   "outputs": [
    {
     "name": "stdout",
     "output_type": "stream",
     "text": [
      "[1, 8, 10, 12]\n",
      "8\n",
      "[8, 10, 12]\n",
      "\n",
      "1\n",
      "8\n",
      "10\n",
      "12\n",
      "\n",
      "1\n",
      "8\n",
      "10\n",
      "12\n"
     ]
    }
   ],
   "source": [
    "myList = [1,8,10,12]\n",
    "print(myList)\n",
    "print(myList[1])\n",
    "print(myList[1:4])#slicing\n",
    "print()\n",
    "for i in myList:\n",
    "    print(i)\n",
    "print()\n",
    "#realize the difference\n",
    "for i in range (len(myList)):\n",
    "    print(myList[i])"
   ]
  },
  {
   "cell_type": "markdown",
   "metadata": {},
   "source": [
    "Check if an item exist in the list"
   ]
  },
  {
   "cell_type": "code",
   "execution_count": 11,
   "metadata": {},
   "outputs": [
    {
     "name": "stdout",
     "output_type": "stream",
     "text": [
      "yes 10 is in the list\n"
     ]
    }
   ],
   "source": [
    "if 10 in myList:\n",
    "    print(\"yes\",10,\"is in the list\")\n",
    "else:\n",
    "    print(\"It is not in my list\")"
   ]
  },
  {
   "cell_type": "markdown",
   "metadata": {},
   "source": [
    "### Built-in functions"
   ]
  },
  {
   "cell_type": "markdown",
   "metadata": {},
   "source": [
    "To add items to the list:"
   ]
  },
  {
   "cell_type": "code",
   "execution_count": 76,
   "metadata": {},
   "outputs": [],
   "source": [
    "myList.append(5)"
   ]
  },
  {
   "cell_type": "code",
   "execution_count": 106,
   "metadata": {},
   "outputs": [
    {
     "name": "stdout",
     "output_type": "stream",
     "text": [
      "[1, 8, 10, 12]\n"
     ]
    }
   ],
   "source": [
    "print(myList)"
   ]
  },
  {
   "cell_type": "markdown",
   "metadata": {},
   "source": [
    "To insert an element in a specific position in the list:"
   ]
  },
  {
   "cell_type": "code",
   "execution_count": 78,
   "metadata": {},
   "outputs": [],
   "source": [
    "myList.insert(2,30)"
   ]
  },
  {
   "cell_type": "code",
   "execution_count": 107,
   "metadata": {},
   "outputs": [
    {
     "name": "stdout",
     "output_type": "stream",
     "text": [
      "[1, 8, 10, 12]\n"
     ]
    }
   ],
   "source": [
    "print(myList)"
   ]
  },
  {
   "cell_type": "markdown",
   "metadata": {},
   "source": [
    "Remove an element from the list"
   ]
  },
  {
   "cell_type": "code",
   "execution_count": 80,
   "metadata": {},
   "outputs": [],
   "source": [
    "myList.remove(12)"
   ]
  },
  {
   "cell_type": "markdown",
   "metadata": {},
   "source": [
    "Remove an element from a certain index:"
   ]
  },
  {
   "cell_type": "code",
   "execution_count": 12,
   "metadata": {},
   "outputs": [
    {
     "data": {
      "text/plain": [
       "10"
      ]
     },
     "execution_count": 12,
     "metadata": {},
     "output_type": "execute_result"
    }
   ],
   "source": [
    "myList.pop(2)"
   ]
  },
  {
   "cell_type": "code",
   "execution_count": 13,
   "metadata": {},
   "outputs": [
    {
     "name": "stdout",
     "output_type": "stream",
     "text": [
      "[1, 8, 12]\n"
     ]
    }
   ],
   "source": [
    "print(myList)"
   ]
  },
  {
   "cell_type": "markdown",
   "metadata": {},
   "source": [
    "Get the maximum and the minimum elements in the list"
   ]
  },
  {
   "cell_type": "code",
   "execution_count": 115,
   "metadata": {},
   "outputs": [
    {
     "name": "stdout",
     "output_type": "stream",
     "text": [
      "The max num is 100\n",
      "The min num is 22\n"
     ]
    }
   ],
   "source": [
    "myList = [27,25,22,100]\n",
    "print(\"The max num is\",max(myList))\n",
    "print(\"The min num is\",min(myList))"
   ]
  },
  {
   "cell_type": "markdown",
   "metadata": {},
   "source": [
    "Join two lists"
   ]
  },
  {
   "cell_type": "code",
   "execution_count": 111,
   "metadata": {},
   "outputs": [
    {
     "name": "stdout",
     "output_type": "stream",
     "text": [
      "['orange', 'purpule', 40, 2.5, 7, True]\n",
      "['orange', 'purpule', 40, 2.5, 7, True]\n"
     ]
    }
   ],
   "source": [
    "myList1 = [\"orange\",\"purpule\",40]\n",
    "myList2=[2.5,7,True]\n",
    "myList3 = myList1+myList2\n",
    "print(myList3)\n",
    "#we can also use extend() buitt-in function to add elements of another list to an existing list\n",
    "myList1.extend(myList2)\n",
    "print(myList1)"
   ]
  },
  {
   "cell_type": "markdown",
   "metadata": {},
   "source": [
    "### 2D Arrays/Lists"
   ]
  },
  {
   "cell_type": "code",
   "execution_count": 100,
   "metadata": {},
   "outputs": [
    {
     "name": "stdout",
     "output_type": "stream",
     "text": [
      "[[1, 2, 3], [5, 7, 'orange'], [1, 'blue', 'white'], ['green', 2, True]]\n"
     ]
    }
   ],
   "source": [
    "arr = [[1,2,3],[5,7,'orange'],[1,'blue','white'],['green',2,True]]\n",
    "print(arr)"
   ]
  },
  {
   "cell_type": "code",
   "execution_count": 101,
   "metadata": {},
   "outputs": [
    {
     "name": "stdout",
     "output_type": "stream",
     "text": [
      "1 2 3 \n",
      "5 7 orange \n",
      "1 blue white \n",
      "green 2 True \n"
     ]
    }
   ],
   "source": [
    "for i in range(len(arr)):\n",
    "    for j in range(len(arr[i])):\n",
    "        print(arr[i][j],end=\" \")\n",
    "    print()"
   ]
  },
  {
   "cell_type": "markdown",
   "metadata": {},
   "source": [
    "### Very Important Note"
   ]
  },
  {
   "cell_type": "markdown",
   "metadata": {},
   "source": [
    "Items in a list are not neccessary to be of the same datatype."
   ]
  },
  {
   "cell_type": "code",
   "execution_count": 83,
   "metadata": {},
   "outputs": [
    {
     "name": "stdout",
     "output_type": "stream",
     "text": [
      "['physics', 30, 'chemistry', 20.5, True]\n"
     ]
    }
   ],
   "source": [
    "myList = [\"physics\",30,\"chemistry\",20.5,True]\n",
    "print(myList)"
   ]
  },
  {
   "cell_type": "markdown",
   "metadata": {},
   "source": [
    "### 2) Tupple:"
   ]
  },
  {
   "cell_type": "code",
   "execution_count": 84,
   "metadata": {},
   "outputs": [
    {
     "name": "stdout",
     "output_type": "stream",
     "text": [
      "('math', 'english', 'physics')\n"
     ]
    }
   ],
   "source": [
    "myTupple = (\"math\",\"english\",\"physics\")#This is a tupple\n",
    "print(myTupple)"
   ]
  },
  {
   "cell_type": "markdown",
   "metadata": {},
   "source": [
    "Tupples are unchangable, i.e you can't change any value in it, hence they can be thought of read only lists."
   ]
  },
  {
   "cell_type": "code",
   "execution_count": 85,
   "metadata": {},
   "outputs": [
    {
     "ename": "TypeError",
     "evalue": "'tuple' object does not support item assignment",
     "output_type": "error",
     "traceback": [
      "\u001b[1;31m---------------------------------------------------------------------------\u001b[0m",
      "\u001b[1;31mTypeError\u001b[0m                                 Traceback (most recent call last)",
      "\u001b[1;32m<ipython-input-85-9505970144ff>\u001b[0m in \u001b[0;36m<module>\u001b[1;34m\u001b[0m\n\u001b[1;32m----> 1\u001b[1;33m \u001b[0mmyTupple\u001b[0m\u001b[1;33m[\u001b[0m\u001b[1;36m1\u001b[0m\u001b[1;33m]\u001b[0m\u001b[1;33m=\u001b[0m\u001b[1;34m\"science\"\u001b[0m\u001b[1;33m\u001b[0m\u001b[1;33m\u001b[0m\u001b[0m\n\u001b[0m",
      "\u001b[1;31mTypeError\u001b[0m: 'tuple' object does not support item assignment"
     ]
    }
   ],
   "source": [
    "myTupple[1]=\"science\""
   ]
  },
  {
   "cell_type": "markdown",
   "metadata": {},
   "source": [
    "### 3) Dictionary:"
   ]
  },
  {
   "cell_type": "markdown",
   "metadata": {},
   "source": [
    "A dictionary is a collection that is unordered and indexed. In python they are written in curly braces. Items of a dictionary can be accessed by their key name"
   ]
  },
  {
   "cell_type": "code",
   "execution_count": 17,
   "metadata": {},
   "outputs": [],
   "source": [
    "myDict = {\"name\":\"John\", \"id\":4, \"dept\":\"sales\"}"
   ]
  },
  {
   "cell_type": "code",
   "execution_count": 18,
   "metadata": {},
   "outputs": [
    {
     "name": "stdout",
     "output_type": "stream",
     "text": [
      "sales\n"
     ]
    }
   ],
   "source": [
    "print(myDict[\"dept\"])"
   ]
  },
  {
   "cell_type": "code",
   "execution_count": 88,
   "metadata": {},
   "outputs": [
    {
     "name": "stdout",
     "output_type": "stream",
     "text": [
      "name\n",
      "id\n",
      "dept\n"
     ]
    }
   ],
   "source": [
    "#return the keys\n",
    "for i in myDict:\n",
    "    print(i)"
   ]
  },
  {
   "cell_type": "code",
   "execution_count": 89,
   "metadata": {},
   "outputs": [
    {
     "name": "stdout",
     "output_type": "stream",
     "text": [
      "John\n",
      "4\n",
      "sales\n"
     ]
    }
   ],
   "source": [
    "#returns the values of the dictionary\n",
    "for i in myDict:\n",
    "    print(myDict[i])"
   ]
  },
  {
   "cell_type": "code",
   "execution_count": 90,
   "metadata": {},
   "outputs": [
    {
     "name": "stdout",
     "output_type": "stream",
     "text": [
      "dict_values(['John', 4, 'sales'])\n"
     ]
    }
   ],
   "source": [
    "print(myDict.values())"
   ]
  },
  {
   "cell_type": "code",
   "execution_count": 91,
   "metadata": {},
   "outputs": [
    {
     "name": "stdout",
     "output_type": "stream",
     "text": [
      "name John\n",
      "id 4\n",
      "dept sales\n"
     ]
    }
   ],
   "source": [
    "for i,j in myDict.items():\n",
    "    print(i,j)"
   ]
  },
  {
   "cell_type": "markdown",
   "metadata": {},
   "source": [
    "## Functions"
   ]
  },
  {
   "cell_type": "markdown",
   "metadata": {},
   "source": [
    "1) A function is a sequence of instructions with a name.<br>\n",
    "2) Functions can receive multiple arguments or it is also possible to have functions with no arguments.<br>\n",
    "3) The “output” that the round function computes is called the return value."
   ]
  },
  {
   "cell_type": "markdown",
   "metadata": {},
   "source": [
    "### Black Box Analogy"
   ]
  },
  {
   "cell_type": "markdown",
   "metadata": {},
   "source": [
    "A thermostat is a ‘black box’<br>\n",
    "    • Set a desired temperature<br>\n",
    "    • Turns on heater/AC as required<br>\n",
    "    • You don’t have to know how it really works!<br>\n"
   ]
  },
  {
   "cell_type": "markdown",
   "metadata": {},
   "source": [
    "Use functions like ‘black boxes’<br>\n",
    "    • Pass the function what it needs to do its job<br>\n",
    "    • Receive the answer"
   ]
  },
  {
   "cell_type": "markdown",
   "metadata": {},
   "source": [
    "### Implementing and testing function"
   ]
  },
  {
   "cell_type": "markdown",
   "metadata": {},
   "source": [
    "Example: Implement a function that calculates the volume of the cube."
   ]
  },
  {
   "cell_type": "markdown",
   "metadata": {},
   "source": [
    "###### First: The function definition"
   ]
  },
  {
   "cell_type": "code",
   "execution_count": 121,
   "metadata": {},
   "outputs": [],
   "source": [
    "def cubeVol(s): #this is called the header of the function and s is called the parameter of the function\n",
    "    return s**3"
   ]
  },
  {
   "cell_type": "markdown",
   "metadata": {},
   "source": [
    "###### Second: calling/ testing the function"
   ]
  },
  {
   "cell_type": "code",
   "execution_count": 122,
   "metadata": {},
   "outputs": [
    {
     "name": "stdout",
     "output_type": "stream",
     "text": [
      "Enter the length of the side of the cube 3\n",
      "The side length of the cube is 27.0\n"
     ]
    }
   ],
   "source": [
    "sideLength=float(input(\"Enter the length of the side of the cube \"))\n",
    "print(\"The side length of the cube is\",cubeVol(sideLength))"
   ]
  },
  {
   "cell_type": "markdown",
   "metadata": {},
   "source": [
    "## Exercises:"
   ]
  },
  {
   "cell_type": "markdown",
   "metadata": {},
   "source": [
    "Exercise 1: Create a program that finds the average of a number of student grades. First ask the instructor how many grades they plan to add and then get all the grades from the instructor and output the\n",
    "average."
   ]
  },
  {
   "cell_type": "code",
   "execution_count": 2,
   "metadata": {},
   "outputs": [
    {
     "name": "stdout",
     "output_type": "stream",
     "text": [
      "Please enter the number of grades3\n",
      "Enter grade 1: 12\n",
      "Enter grade 2: 14\n",
      "Enter grade 3: 15\n",
      "The average of the grades is: 13.666666666666666\n"
     ]
    }
   ],
   "source": [
    "sum=0\n",
    "n = int(input(\"Please enter the number of grades\"))\n",
    "for i in range(n):\n",
    "    x = int(input(\"Enter grade \"+str(i+1)+\": \"))\n",
    "    sum = sum+x\n",
    "print(\"The average of the grades is:\",(sum/n))"
   ]
  },
  {
   "cell_type": "markdown",
   "metadata": {},
   "source": [
    "Exercise 2: (Counting 7s) Write a program that reads a positive integer and determines and prints how many digits in the integer are 7s."
   ]
  },
  {
   "cell_type": "code",
   "execution_count": 12,
   "metadata": {},
   "outputs": [
    {
     "name": "stdout",
     "output_type": "stream",
     "text": [
      "Enter an integer number 7777789\n",
      "The number of sevens are  5\n"
     ]
    }
   ],
   "source": [
    "num = int(input(\"Enter an integer number \"))\n",
    "count=0\n",
    "for i in str(num):\n",
    "    if i==\"7\":\n",
    "        count+=1\n",
    "print(\"The number of sevens are \",count)"
   ]
  },
  {
   "cell_type": "markdown",
   "metadata": {},
   "source": [
    "Exercise 3: Write a Python program to print the numbers of a specified list after removing even numbers from it."
   ]
  },
  {
   "cell_type": "code",
   "execution_count": 7,
   "metadata": {},
   "outputs": [
    {
     "name": "stdout",
     "output_type": "stream",
     "text": [
      "[1, 7, 3, 9]\n"
     ]
    }
   ],
   "source": [
    "myList = [1,4,7,3,2,9]\n",
    "# list2 = []\n",
    "# for i in myList:\n",
    "#     if i%2==1:\n",
    "#         list2.append(i)\n",
    "# print(list2)\n",
    "#or:\n",
    "myList = [i for i in myList if i%2!=0]\n",
    "print(myList)"
   ]
  },
  {
   "cell_type": "markdown",
   "metadata": {},
   "source": [
    "Exercise 4: Write a function that takes a list count the number of strings where the string length is 2 or more and the first and last character are same from a given list of strings."
   ]
  },
  {
   "cell_type": "code",
   "execution_count": 3,
   "metadata": {},
   "outputs": [
    {
     "name": "stdout",
     "output_type": "stream",
     "text": [
      "2\n"
     ]
    }
   ],
   "source": [
    "def match_words(myList):\n",
    "    count = 0\n",
    "    for l in myList:\n",
    "        if len(l)>2 and l[0]==l[-1]:\n",
    "            count+=1\n",
    "    return count\n",
    "\n",
    "\n",
    "print(match_words([\"abc\",\"xyz\",\"aba\",\"1221\"]))"
   ]
  }
 ],
 "metadata": {
  "kernelspec": {
   "display_name": "Python 3",
   "language": "python",
   "name": "python3"
  },
  "language_info": {
   "codemirror_mode": {
    "name": "ipython",
    "version": 3
   },
   "file_extension": ".py",
   "mimetype": "text/x-python",
   "name": "python",
   "nbconvert_exporter": "python",
   "pygments_lexer": "ipython3",
   "version": "3.7.4"
  }
 },
 "nbformat": 4,
 "nbformat_minor": 2
}
